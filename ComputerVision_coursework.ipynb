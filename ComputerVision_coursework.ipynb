{
  "cells": [
    {
      "cell_type": "markdown",
      "metadata": {
        "id": "view-in-github",
        "colab_type": "text"
      },
      "source": [
        "<a href=\"https://colab.research.google.com/github/Jude-Morgan/Machine-Learning-projects/blob/main/ComputerVision_coursework.ipynb\" target=\"_parent\"><img src=\"https://colab.research.google.com/assets/colab-badge.svg\" alt=\"Open In Colab\"/></a>"
      ]
    },
    {
      "cell_type": "code",
      "execution_count": null,
      "metadata": {
        "colab": {
          "base_uri": "https://localhost:8080/"
        },
        "id": "eljY6kg2Lpxi",
        "outputId": "2a280a4e-8eb1-4d4b-d035-927d67a34016"
      },
      "outputs": [
        {
          "output_type": "stream",
          "name": "stdout",
          "text": [
            "Looking in indexes: https://pypi.org/simple, https://us-python.pkg.dev/colab-wheels/public/simple/\n",
            "Collecting optuna\n",
            "  Downloading optuna-3.1.1-py3-none-any.whl (365 kB)\n",
            "\u001b[2K     \u001b[90m━━━━━━━━━━━━━━━━━━━━━━━━━━━━━━━━━━━━━━\u001b[0m \u001b[32m365.7/365.7 kB\u001b[0m \u001b[31m11.7 MB/s\u001b[0m eta \u001b[36m0:00:00\u001b[0m\n",
            "\u001b[?25hCollecting alembic>=1.5.0 (from optuna)\n",
            "  Downloading alembic-1.11.1-py3-none-any.whl (224 kB)\n",
            "\u001b[2K     \u001b[90m━━━━━━━━━━━━━━━━━━━━━━━━━━━━━━━━━━━━━━\u001b[0m \u001b[32m224.5/224.5 kB\u001b[0m \u001b[31m23.4 MB/s\u001b[0m eta \u001b[36m0:00:00\u001b[0m\n",
            "\u001b[?25hCollecting cmaes>=0.9.1 (from optuna)\n",
            "  Downloading cmaes-0.9.1-py3-none-any.whl (21 kB)\n",
            "Collecting colorlog (from optuna)\n",
            "  Downloading colorlog-6.7.0-py2.py3-none-any.whl (11 kB)\n",
            "Requirement already satisfied: numpy in /usr/local/lib/python3.10/dist-packages (from optuna) (1.22.4)\n",
            "Requirement already satisfied: packaging>=20.0 in /usr/local/lib/python3.10/dist-packages (from optuna) (23.1)\n",
            "Requirement already satisfied: sqlalchemy>=1.3.0 in /usr/local/lib/python3.10/dist-packages (from optuna) (2.0.10)\n",
            "Requirement already satisfied: tqdm in /usr/local/lib/python3.10/dist-packages (from optuna) (4.65.0)\n",
            "Requirement already satisfied: PyYAML in /usr/local/lib/python3.10/dist-packages (from optuna) (6.0)\n",
            "Collecting Mako (from alembic>=1.5.0->optuna)\n",
            "  Downloading Mako-1.2.4-py3-none-any.whl (78 kB)\n",
            "\u001b[2K     \u001b[90m━━━━━━━━━━━━━━━━━━━━━━━━━━━━━━━━━━━━━━━━\u001b[0m \u001b[32m78.7/78.7 kB\u001b[0m \u001b[31m9.7 MB/s\u001b[0m eta \u001b[36m0:00:00\u001b[0m\n",
            "\u001b[?25hRequirement already satisfied: typing-extensions>=4 in /usr/local/lib/python3.10/dist-packages (from alembic>=1.5.0->optuna) (4.5.0)\n",
            "Requirement already satisfied: greenlet!=0.4.17 in /usr/local/lib/python3.10/dist-packages (from sqlalchemy>=1.3.0->optuna) (2.0.2)\n",
            "Requirement already satisfied: MarkupSafe>=0.9.2 in /usr/local/lib/python3.10/dist-packages (from Mako->alembic>=1.5.0->optuna) (2.1.2)\n",
            "Installing collected packages: Mako, colorlog, cmaes, alembic, optuna\n",
            "Successfully installed Mako-1.2.4 alembic-1.11.1 cmaes-0.9.1 colorlog-6.7.0 optuna-3.1.1\n"
          ]
        }
      ],
      "source": [
        "from sklearn.model_selection import train_test_split\n",
        "from torch.optim.lr_scheduler import StepLR\n",
        "!pip install optuna\n",
        "import optuna\n",
        "import torch\n",
        "import torch.nn as nn\n",
        "import torch.optim as optim\n",
        "import numpy as np\n",
        "import matplotlib.pyplot as plt\n",
        "import torchvision\n",
        "from torchvision import datasets\n",
        "from torchvision import transforms"
      ]
    },
    {
      "cell_type": "code",
      "execution_count": null,
      "metadata": {
        "id": "4vfYZi3QdYxj"
      },
      "outputs": [],
      "source": [
        "transforms = transforms.Compose([\n",
        "    transforms.ToTensor(),\n",
        "])"
      ]
    },
    {
      "cell_type": "code",
      "execution_count": null,
      "metadata": {
        "colab": {
          "base_uri": "https://localhost:8080/"
        },
        "id": "BZjvjnJxhiJn",
        "outputId": "c07beab6-2880-4695-db08-4d8c2861b0f6"
      },
      "outputs": [
        {
          "output_type": "stream",
          "name": "stdout",
          "text": [
            "Downloading https://www.cs.toronto.edu/~kriz/cifar-10-python.tar.gz to ./data/cifar-10-python.tar.gz\n"
          ]
        },
        {
          "output_type": "stream",
          "name": "stderr",
          "text": [
            "100%|██████████| 170498071/170498071 [00:03<00:00, 46322539.53it/s]\n"
          ]
        },
        {
          "output_type": "stream",
          "name": "stdout",
          "text": [
            "Extracting ./data/cifar-10-python.tar.gz to ./data\n",
            "Files already downloaded and verified\n",
            "Files already downloaded and verified\n"
          ]
        }
      ],
      "source": [
        "import torchvision.transforms as transforms\n",
        "from sklearn.model_selection import train_test_split\n",
        "from torchvision.datasets import CIFAR10\n",
        "\n",
        "dataset = torchvision.datasets.CIFAR10(root=\"./data\", train=True, transform=transforms, download=True)\n",
        "\n",
        "# Define transforms\n",
        "transform = transforms.Compose([transforms.ToTensor(), transforms.Normalize((0.5, 0.5, 0.5), (0.5, 0.5, 0.5))])\n",
        "\n",
        "# Load CIFAR-10 dataset\n",
        "train_dataset = CIFAR10(root=\"./data\", train=True, transform=transform, download=True)\n",
        "test_dataset = CIFAR10(root=\"./data\", train=False, transform=transform, download=True)\n",
        "\n",
        "# Split train dataset into train and validation sets\n",
        "train_dataset, val_dataset = train_test_split(train_dataset, test_size=0.2, random_state=42)"
      ]
    },
    {
      "cell_type": "code",
      "execution_count": null,
      "metadata": {
        "id": "XKBbg8K_h5BG"
      },
      "outputs": [],
      "source": [
        "test_loader = torch.utils.data.DataLoader(test_dataset, batch_size=32, shuffle=True)\n",
        "train_loader = torch.utils.data.DataLoader(train_dataset, batch_size=32, shuffle=True)\n",
        "val_loader = torch.utils.data.DataLoader(val_dataset, batch_size=32, shuffle=True)\n",
        "\n",
        "classes = ('plane', 'car', 'bird', 'cat', 'deer', 'dog', 'frog', 'horse', 'ship', 'truck')"
      ]
    },
    {
      "cell_type": "code",
      "execution_count": null,
      "metadata": {
        "id": "hzTr_OgsjqjU"
      },
      "outputs": [],
      "source": [
        "class CNN(nn.Module):\n",
        "    def __init__(self):\n",
        "        super(CNN, self).__init__()\n",
        "        self.features = nn.Sequential(\n",
        "            nn.Conv2d(3, 64, kernel_size=3, stride=1, padding=1),\n",
        "            nn.ReLU(inplace=True),\n",
        "            nn.MaxPool2d(kernel_size=2, stride=2),\n",
        "            nn.Conv2d(64, 128, kernel_size=3, stride=1, padding=1),\n",
        "            nn.ReLU(inplace=True),\n",
        "            nn.MaxPool2d(kernel_size=2, stride=2)\n",
        "        )\n",
        "        self.classifier = nn.Sequential(\n",
        "            nn.Linear(128 * 8 * 8, 256),\n",
        "            nn.ReLU(inplace=True),\n",
        "            nn.Linear(256, 10)\n",
        "        )\n",
        "\n",
        "    def forward(self, x):\n",
        "        x = self.features(x)\n",
        "        x = x.view(-1, 128 * 8 * 8)\n",
        "        x = self.classifier(x)\n",
        "        return x\n"
      ]
    },
    {
      "cell_type": "code",
      "execution_count": null,
      "metadata": {
        "colab": {
          "base_uri": "https://localhost:8080/"
        },
        "id": "3VUdFHLXl-e_",
        "outputId": "4c48e9a5-af2e-476c-ee98-ac7f8e5dea61"
      },
      "outputs": [
        {
          "output_type": "stream",
          "name": "stdout",
          "text": [
            "cuda:0\n"
          ]
        }
      ],
      "source": [
        "device = torch.device(\"cuda:0\" if torch.cuda.is_available() else \"cpu\")\n",
        "\n",
        "model = CNN()\n",
        "model = model.to(device=device)\n",
        "print(device)"
      ]
    },
    {
      "cell_type": "code",
      "execution_count": null,
      "metadata": {
        "id": "7eHWlAPNnK_r"
      },
      "outputs": [],
      "source": [
        "optimizer = optim.SGD(model.parameters(), lr=0.05)\n",
        "criterion = nn.CrossEntropyLoss()\n",
        "scheduler = StepLR(optimizer, step_size=10, gamma=0.1)"
      ]
    },
    {
      "cell_type": "code",
      "execution_count": null,
      "metadata": {
        "colab": {
          "base_uri": "https://localhost:8080/",
          "height": 812
        },
        "id": "ya8hZ8LbiDkg",
        "outputId": "297caaf3-987e-4c0f-e659-daabac31f7e9"
      },
      "outputs": [
        {
          "output_type": "stream",
          "name": "stdout",
          "text": [
            "Epoch [1/20], Training Loss: 2.1820, Training Acc: 16.6600, Val Loss: 2.2119, Validation Acc: 25.8900\n",
            "Epoch [2/20], Training Loss: 1.8508, Training Acc: 27.3075, Val Loss: 2.1407, Validation Acc: 29.2300\n",
            "Epoch [3/20], Training Loss: 2.1014, Training Acc: 31.6350, Val Loss: 1.5912, Validation Acc: 33.0400\n",
            "Epoch [4/20], Training Loss: 1.7072, Training Acc: 35.2325, Val Loss: 1.8620, Validation Acc: 36.0300\n",
            "Epoch [5/20], Training Loss: 2.0153, Training Acc: 37.8850, Val Loss: 1.8365, Validation Acc: 37.9900\n",
            "Epoch [6/20], Training Loss: 1.8635, Training Acc: 40.0250, Val Loss: 1.6287, Validation Acc: 40.1800\n",
            "Epoch [7/20], Training Loss: 1.5622, Training Acc: 41.8325, Val Loss: 1.5089, Validation Acc: 42.4900\n",
            "Epoch [8/20], Training Loss: 1.5286, Training Acc: 43.7200, Val Loss: 1.6389, Validation Acc: 43.8700\n",
            "Epoch [9/20], Training Loss: 1.3143, Training Acc: 45.1075, Val Loss: 2.1415, Validation Acc: 45.9000\n",
            "Epoch [10/20], Training Loss: 1.5655, Training Acc: 46.7725, Val Loss: 1.6341, Validation Acc: 46.4700\n",
            "Epoch [11/20], Training Loss: 1.3012, Training Acc: 47.9275, Val Loss: 1.5387, Validation Acc: 47.7500\n",
            "Epoch [12/20], Training Loss: 1.0972, Training Acc: 48.4725, Val Loss: 1.2062, Validation Acc: 48.8200\n",
            "Epoch [13/20], Training Loss: 1.6813, Training Acc: 49.1500, Val Loss: 1.5935, Validation Acc: 48.9500\n",
            "Epoch [14/20], Training Loss: 1.2656, Training Acc: 49.5850, Val Loss: 1.3530, Validation Acc: 49.4600\n",
            "Epoch [15/20], Training Loss: 1.1001, Training Acc: 50.0450, Val Loss: 1.0780, Validation Acc: 50.3300\n",
            "Epoch [16/20], Training Loss: 1.3866, Training Acc: 50.5950, Val Loss: 1.8632, Validation Acc: 50.6200\n",
            "Epoch [17/20], Training Loss: 1.4190, Training Acc: 50.9525, Val Loss: 1.3185, Validation Acc: 51.2500\n",
            "Epoch [18/20], Training Loss: 1.2987, Training Acc: 51.4000, Val Loss: 1.1949, Validation Acc: 51.4800\n",
            "Epoch [19/20], Training Loss: 1.3345, Training Acc: 51.7975, Val Loss: 1.3507, Validation Acc: 51.6900\n",
            "Epoch [20/20], Training Loss: 1.5451, Training Acc: 52.4475, Val Loss: 1.2455, Validation Acc: 52.2800\n"
          ]
        },
        {
          "output_type": "display_data",
          "data": {
            "text/plain": [
              "<Figure size 640x480 with 1 Axes>"
            ],
            "image/png": "[encoded data removed]"
          },
          "metadata": {}
        }
      ],
      "source": [
        "def train_model(model, criterion, optimizer, scheduler, train_loader, val_loader, num_epochs):\n",
        "    device = torch.device(\"cuda:0\" if torch.cuda.is_available() else \"cpu\")\n",
        "\n",
        "    train_loss = []\n",
        "    train_acc = []\n",
        "    valid_loss = []\n",
        "    valid_acc = []\n",
        "\n",
        "    for epoch in range(num_epochs):\n",
        "        model.train()\n",
        "        train_correct = 0\n",
        "        train_total = 0\n",
        "        for i, (inputs, labels) in enumerate(train_loader):\n",
        "            inputs = inputs.to(device)\n",
        "            labels = labels.to(device)\n",
        "\n",
        "            optimizer.zero_grad()\n",
        "\n",
        "            outputs = model(inputs)\n",
        "            loss = criterion(outputs, labels)\n",
        "            loss.backward()\n",
        "            optimizer.step()\n",
        "\n",
        "            train_loss.append(loss.item())\n",
        "\n",
        "            _, predicted = torch.max(outputs.data, 1)\n",
        "            train_total += labels.size(0)\n",
        "            train_correct += (predicted == labels).sum().item()\n",
        "\n",
        "        train_acc.append(100 * train_correct / train_total)\n",
        "\n",
        "        scheduler.step()\n",
        "\n",
        "        model.eval()\n",
        "        valid_correct = 0\n",
        "        valid_total = 0\n",
        "        with torch.no_grad():\n",
        "            for inputs, labels in val_loader:\n",
        "                inputs = inputs.to(device)\n",
        "                labels = labels.to(device)\n",
        "\n",
        "                outputs = model(inputs)\n",
        "                loss = criterion(outputs, labels)\n",
        "\n",
        "                valid_loss.append(loss.item())\n",
        "\n",
        "                _, predicted = torch.max(outputs.data, 1)\n",
        "                valid_total += labels.size(0)\n",
        "                valid_correct += (predicted == labels).sum().item()\n",
        "\n",
        "        valid_acc.append(100 * valid_correct / valid_total)\n",
        "\n",
        "        print('Epoch [{}/{}], Training Loss: {:.4f}, Training Acc: {:.4f}, Val Loss: {:.4f}, Validation Acc: {:.4f}'\n",
        "              .format(epoch + 1, num_epochs, train_loss[-1], train_acc[-1], valid_loss[-1], valid_acc[-1]))\n",
        "\n",
        "    return train_loss, train_acc, valid_loss, valid_acc\n",
        "\n",
        "device = torch.device(\"cuda:0\" if torch.cuda.is_available() else \"cpu\")\n",
        "\n",
        "learning_rate = 0.001\n",
        "gamma = 0.5\n",
        "step_size = 10\n",
        "num_epochs = 20  # Define the number of epochs\n",
        "\n",
        "model = CNN().to(device=device)\n",
        "criterion = nn.CrossEntropyLoss()\n",
        "optimizer = optim.SGD(model.parameters(), lr=learning_rate)\n",
        "scheduler = StepLR(optimizer, step_size=step_size, gamma=gamma)\n",
        "\n",
        "train_loss, train_acc, valid_loss, valid_acc = train_model(model, criterion, optimizer, scheduler, train_loader, val_loader, num_epochs)\n",
        "\n",
        "plt.plot(train_acc, label='Training Accuracy')\n",
        "plt.plot(valid_acc, label='Validation Accuracy')\n",
        "plt.xlabel('Epoch')\n",
        "plt.ylabel('Accuracy')\n",
        "plt.legend()\n",
        "plt.show()"
      ]
    },
    {
      "cell_type": "code",
      "source": [
        "def objective(learning_rate, scheduler_name, step_size=None, gamma=None):\n",
        "    model = CNN().to(device=device)\n",
        "    criterion = nn.CrossEntropyLoss()\n",
        "\n",
        "    optimizer = optim.SGD(model.parameters(), lr=learning_rate)\n",
        "\n",
        "    if scheduler_name == 'StepLR':\n",
        "        scheduler = StepLR(optimizer, step_size=step_size, gamma=gamma)\n",
        "\n",
        "    for epoch in range(num_epochs):\n",
        "        model.train()\n",
        "        train_correct = 0\n",
        "        train_total = 0\n",
        "        for i, (inputs, labels) in enumerate(train_loader):\n",
        "            inputs = inputs.to(device)\n",
        "            labels = labels.to(device)\n",
        "\n",
        "            optimizer.zero_grad()\n",
        "\n",
        "            outputs = model(inputs)\n",
        "            loss = criterion(outputs, labels)\n",
        "            loss.backward()\n",
        "            optimizer.step()\n",
        "\n",
        "            train_loss.append(loss.item())\n",
        "\n",
        "            _, predicted = torch.max(outputs.data, 1)\n",
        "            train_total += labels.size(0)\n",
        "            train_correct += (predicted == labels).sum().item()\n",
        "\n",
        "        train_acc.append(100 * train_correct / train_total)\n",
        "\n",
        "        if scheduler_name == 'StepLR':\n",
        "            scheduler.step()\n",
        "\n",
        "        model.eval()\n",
        "        valid_correct = 0\n",
        "        valid_total = 0\n",
        "        with torch.no_grad():\n",
        "            for inputs, labels in val_loader:\n",
        "                inputs = inputs.to(device)\n",
        "                labels = labels.to(device)\n",
        "\n",
        "                outputs = model(inputs)\n",
        "                loss = criterion(outputs, labels)\n",
        "                valid_loss.append(loss.item())\n",
        "\n",
        "                _, predicted = torch.max(outputs.data, 1)\n",
        "                valid_total += labels.size(0)\n",
        "                valid_correct += (predicted == labels).sum().item()\n",
        "\n",
        "        valid_acc.append(100 * valid_correct / valid_total)\n",
        "\n",
        "    return valid_acc[-1]  # Return last validation accuracy\n",
        "\n",
        "device = torch.device(\"cuda:0\" if torch.cuda.is_available() else \"cpu\")\n",
        "\n",
        "train_loss = []\n",
        "train_acc = []\n",
        "valid_loss = []\n",
        "valid_acc = []\n",
        "num_epochs = 50\n",
        "\n",
        "learning_rate = 0.01\n",
        "scheduler_name = 'StepLR'\n",
        "step_size = 10\n",
        "gamma = 0.5\n",
        "\n",
        "model = CNN().to(device=device)\n",
        "optimizer = optim.SGD(model.parameters(), lr=learning_rate)\n",
        "\n",
        "if scheduler_name == 'StepLR':\n",
        "    scheduler = StepLR(optimizer, step_size=step_size, gamma=gamma)\n",
        "\n",
        "for epoch in range(num_epochs):\n",
        "    model.train()\n",
        "    train_correct = 0\n",
        "    train_total = 0\n",
        "    for i, (inputs, labels) in enumerate(train_loader):\n",
        "        inputs = inputs.to(device)\n",
        "        labels = labels.to(device)\n",
        "\n",
        "        optimizer.zero_grad()\n",
        "\n",
        "        outputs = model(inputs)\n",
        "        loss = criterion(outputs, labels)\n",
        "        loss.backward()\n",
        "        optimizer.step()\n",
        "\n",
        "        train_loss.append(loss.item())\n",
        "\n",
        "        _, predicted = torch.max(outputs.data, 1)\n",
        "        train_total += labels.size(0)\n",
        "        train_correct += (predicted == labels).sum().item()\n",
        "\n",
        "    train_acc.append(100 * train_correct / train_total)\n",
        "\n",
        "    if scheduler_name == 'StepLR':\n",
        "        scheduler.step()\n",
        "\n",
        "    model.eval()\n",
        "    valid_correct = 0\n",
        "    valid_total = 0\n",
        "    with torch.no_grad():\n",
        "        for inputs, labels in val_loader:\n",
        "            inputs = inputs.to(device)\n",
        "            labels = labels.to(device)\n",
        "\n",
        "            outputs = model(inputs)\n",
        "            loss = criterion(outputs, labels)\n",
        "            valid_loss.append(loss.item())\n",
        "\n",
        "            _, predicted = torch.max(outputs.data, 1)\n",
        "            valid_total += labels.size(0)\n",
        "            valid_correct += (predicted == labels).sum().item()\n",
        "\n",
        "    valid_acc.append(100 * valid_correct / valid_total)\n",
        "\n",
        "    if scheduler_name != 'StepLR':\n",
        "        scheduler.step()\n",
        "\n",
        "print(valid_acc[-1])  # Print the last validation accuracy"
      ],
      "metadata": {
        "colab": {
          "base_uri": "https://localhost:8080/"
        },
        "id": "8zXD9d8CjhBH",
        "outputId": "3308c306-ce88-4c51-e000-dda004edd240"
      },
      "execution_count": null,
      "outputs": [
        {
          "output_type": "stream",
          "name": "stdout",
          "text": [
            "72.44\n"
          ]
        }
      ]
    },
    {
      "cell_type": "code",
      "source": [
        "import torch.optim.lr_scheduler as lr_scheduler\n",
        "\n",
        "device = torch.device(\"cuda:0\" if torch.cuda.is_available() else \"cpu\")\n",
        "\n",
        "# Define the lists to store the losses and accuracies\n",
        "train_loss = []\n",
        "train_acc = []\n",
        "valid_loss = []\n",
        "valid_acc = []\n",
        "num_epochs = 15\n",
        "\n",
        "learning_rate = 0.01  # Adjust the learning rate manually\n",
        "gamma = 0.5  # Adjust the gamma manually\n",
        "step_size = 10  # Adjust the step size manually\n",
        "\n",
        "model = CNN().to(device=device)\n",
        "optimizer = optim.SGD(model.parameters(), lr=learning_rate)\n",
        "\n",
        "scheduler = lr_scheduler.StepLR(optimizer, step_size=step_size, gamma=gamma)\n",
        "\n",
        "# Train the model using the specified hyperparameters\n",
        "for epoch in range(num_epochs):\n",
        "    model.train()\n",
        "    correct = 0\n",
        "    total = 0\n",
        "    for i, (inputs, labels) in enumerate(train_loader):\n",
        "        inputs = inputs.to(device)\n",
        "        labels = labels.to(device)\n",
        "\n",
        "        optimizer.zero_grad()\n",
        "\n",
        "        outputs = model(inputs)\n",
        "        loss = criterion(outputs, labels)\n",
        "        loss.backward()\n",
        "        optimizer.step()\n",
        "\n",
        "        train_loss.append(loss.item())\n",
        "\n",
        "        _, predicted = torch.max(outputs.data, 1)\n",
        "        total += labels.size(0)\n",
        "        correct += (predicted == labels).sum().item()\n",
        "\n",
        "    train_acc.append(100 * correct / total)\n",
        "\n",
        "    scheduler.step()\n",
        "\n",
        "    model.eval()\n",
        "    correct = 0\n",
        "    total = 0\n",
        "    with torch.no_grad():\n",
        "        for inputs, labels in val_loader:\n",
        "            inputs = inputs.to(device)\n",
        "            labels = labels.to(device)\n",
        "\n",
        "            outputs = model(inputs)\n",
        "            loss = criterion(outputs, labels)\n",
        "\n",
        "            valid_loss.append(loss.item())\n",
        "\n",
        "            _, predicted = torch.max(outputs.data, 1)\n",
        "            total += labels.size(0)\n",
        "            correct += (predicted == labels).sum().item()\n",
        "\n",
        "    valid_acc.append(100 * correct / total)\n",
        "\n",
        "    # Print epoch and losses\n",
        "    print(f\"Epoch [{epoch+1}/{num_epochs}], Training Loss: {train_loss[-1]:.4f}, Training Acc: {train_acc[-1]:.4f}, \"\n",
        "          f\"Val Loss: {valid_loss[-1]:.4f}, Validation Acc: {valid_acc[-1]:.4f}\")\n",
        "\n",
        "# Plot the loss and accuracy over epochs\n",
        "plt.plot(train_acc, label='Training Accuracy')\n",
        "plt.plot(valid_acc, label='Validation Accuracy')\n",
        "plt.xlabel('Epoch')\n",
        "plt.ylabel('Accuracy')\n",
        "plt.legend()\n",
        "plt.show()"
      ],
      "metadata": {
        "id": "Heiw-S_b4b4Q",
        "colab": {
          "base_uri": "https://localhost:8080/",
          "height": 721
        },
        "outputId": "7bba7564-ca21-492d-c059-8f609e7836fd"
      },
      "execution_count": null,
      "outputs": [
        {
          "output_type": "stream",
          "name": "stdout",
          "text": [
            "Epoch [1/15], Training Loss: 1.6891, Training Acc: 34.4775, Val Loss: 2.1607, Validation Acc: 41.1400\n",
            "Epoch [2/15], Training Loss: 1.0573, Training Acc: 47.9850, Val Loss: 1.3668, Validation Acc: 50.7000\n",
            "Epoch [3/15], Training Loss: 0.9646, Training Acc: 54.1375, Val Loss: 1.4232, Validation Acc: 55.9600\n",
            "Epoch [4/15], Training Loss: 0.8643, Training Acc: 58.2350, Val Loss: 1.4000, Validation Acc: 58.4900\n",
            "Epoch [5/15], Training Loss: 1.3389, Training Acc: 61.8275, Val Loss: 1.0031, Validation Acc: 62.6100\n",
            "Epoch [6/15], Training Loss: 1.1843, Training Acc: 64.8450, Val Loss: 1.1323, Validation Acc: 63.7100\n",
            "Epoch [7/15], Training Loss: 0.5900, Training Acc: 67.5325, Val Loss: 1.0156, Validation Acc: 65.2900\n",
            "Epoch [8/15], Training Loss: 0.5085, Training Acc: 69.7000, Val Loss: 0.9011, Validation Acc: 66.9100\n",
            "Epoch [9/15], Training Loss: 0.6850, Training Acc: 71.7400, Val Loss: 1.0564, Validation Acc: 66.5200\n",
            "Epoch [10/15], Training Loss: 0.8564, Training Acc: 73.8475, Val Loss: 0.7538, Validation Acc: 68.9000\n",
            "Epoch [11/15], Training Loss: 0.8053, Training Acc: 77.7850, Val Loss: 0.9133, Validation Acc: 70.5500\n",
            "Epoch [12/15], Training Loss: 0.6344, Training Acc: 78.9975, Val Loss: 0.5417, Validation Acc: 70.2100\n",
            "Epoch [13/15], Training Loss: 0.5182, Training Acc: 80.5500, Val Loss: 0.8730, Validation Acc: 69.2900\n",
            "Epoch [14/15], Training Loss: 0.6221, Training Acc: 81.5475, Val Loss: 0.7789, Validation Acc: 70.7500\n",
            "Epoch [15/15], Training Loss: 0.4802, Training Acc: 82.8075, Val Loss: 0.8991, Validation Acc: 71.4800\n"
          ]
        },
        {
          "output_type": "display_data",
          "data": {
            "text/plain": [
              "<Figure size 640x480 with 1 Axes>"
            ],
            "image/png": "[encoded data removed]"
          },
          "metadata": {}
        }
      ]
    }
  ],
  "metadata": {
    "colab": {
      "provenance": [],
      "gpuType": "T4",
      "authorship_tag": "ABX9TyO14Wi0aqgyN92mVmzVV3Un",
      "include_colab_link": true
    },
    "kernelspec": {
      "display_name": "Python 3",
      "name": "python3"
    },
    "language_info": {
      "name": "python"
    },
    "accelerator": "GPU",
    "gpuClass": "standard"
  },
  "nbformat": 4,
  "nbformat_minor": 0
}